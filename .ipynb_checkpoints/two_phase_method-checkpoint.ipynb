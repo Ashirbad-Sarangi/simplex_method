{
 "cells": [
  {
   "cell_type": "code",
   "execution_count": 9,
   "id": "afa7da58-7216-4c32-9312-8f0452de44b9",
   "metadata": {},
   "outputs": [],
   "source": [
    "import numpy as maths\n",
    "import warnings\n",
    "warnings.filterwarnings(\"ignore\")"
   ]
  },
  {
   "cell_type": "markdown",
   "id": "548cdcd5-26b9-48e7-8ff0-a8fb2671b782",
   "metadata": {},
   "source": [
    "# Questions"
   ]
  },
  {
   "cell_type": "code",
   "execution_count": 28,
   "id": "35092498-b854-4e33-8830-1848f7951228",
   "metadata": {},
   "outputs": [],
   "source": [
    "vars = 2\n",
    "vars = maths.zeros(vars)"
   ]
  },
  {
   "cell_type": "code",
   "execution_count": 29,
   "id": "bafb1bdf-3ef8-40bf-aa9c-d5a4fd82cc79",
   "metadata": {},
   "outputs": [],
   "source": [
    "c = [-2,-1]\n",
    "conditions = [\n",
    "    [1,0],\n",
    "    [0,1],\n",
    "    [1,1]\n",
    "]\n",
    "b = [5,7,9]"
   ]
  },
  {
   "cell_type": "code",
   "execution_count": 30,
   "id": "8c4090a9-22ba-4cf3-8a15-54fa28489440",
   "metadata": {},
   "outputs": [
    {
     "name": "stdout",
     "output_type": "stream",
     "text": [
      "[[1 0]\n",
      " [0 1]\n",
      " [1 1]]\n",
      "[[5]\n",
      " [7]\n",
      " [9]]\n"
     ]
    }
   ],
   "source": [
    "if len(conditions) == len(b):\n",
    "    c = maths.array(c).reshape(-1,1)\n",
    "    D = maths.matrix(conditions)\n",
    "    b = maths.array(b).reshape(-1,1)\n",
    "    print(D)\n",
    "    print(b)\n",
    "else :\n",
    "    print(\"Conditions or Answers are not Correct !!!\")"
   ]
  },
  {
   "cell_type": "markdown",
   "id": "d4b62255-58d0-429c-9211-133d3c5dc493",
   "metadata": {},
   "source": [
    "# Algorithm"
   ]
  },
  {
   "cell_type": "markdown",
   "id": "5b6245e9-7dfb-4319-b505-593fbfb6d58e",
   "metadata": {},
   "source": [
    "## Initialisations"
   ]
  },
  {
   "cell_type": "code",
   "execution_count": 31,
   "id": "9967c213-fc79-4105-96b8-5cee20868ea1",
   "metadata": {},
   "outputs": [],
   "source": [
    "size = len(conditions)\n",
    "B = maths.identity(size)\n",
    "A = maths.hstack((B,D))\n",
    "original_constraints = maths.vstack(( c,maths.zeros((size,1)) ))\n",
    "c = maths.vstack(( maths.zeros((size,1)) , c ))\n",
    "x = maths.vstack(( maths.zeros((len(vars),1)) , b ) )\n",
    "order = list(maths.arange(len(vars)+1,len(x)+1,1)) + list(maths.arange(1,len(vars)+1,1))"
   ]
  },
  {
   "cell_type": "markdown",
   "id": "26d34792-e6fc-4e8c-b4b4-03c5766d9c0f",
   "metadata": {},
   "source": [
    "## Canonical Form"
   ]
  },
  {
   "cell_type": "code",
   "execution_count": 32,
   "id": "05abb3be-ba90-4ed0-9f38-c0bc5759421d",
   "metadata": {},
   "outputs": [
    {
     "data": {
      "text/plain": [
       "matrix([[1., 0., 0., 1., 0., 5.],\n",
       "        [0., 1., 0., 0., 1., 7.],\n",
       "        [0., 0., 1., 1., 1., 9.]])"
      ]
     },
     "execution_count": 32,
     "metadata": {},
     "output_type": "execute_result"
    }
   ],
   "source": [
    "Ab = maths.hstack((A,b.reshape(-1,1)))\n",
    "Ab"
   ]
  },
  {
   "cell_type": "markdown",
   "id": "baf76286-1462-4ff3-bfbf-685eff8de8a8",
   "metadata": {},
   "source": [
    "## Reduced Cost Coefficients"
   ]
  },
  {
   "cell_type": "code",
   "execution_count": 33,
   "id": "6c4fff78-f058-42be-b352-e180d4503e94",
   "metadata": {},
   "outputs": [
    {
     "name": "stdout",
     "output_type": "stream",
     "text": [
      "Initial Solution : [[0. 0. 5. 7. 9.]]\n",
      "\n",
      "[[1. 0. 0. 1. 0. 5.]\n",
      " [0. 1. 0. 0. 1. 7.]\n",
      " [0. 0. 1. 1. 1. 9.]]\n",
      "Column 0 is replaced with 3\n",
      "\n",
      "[[ 1.  0.  0.  1.  0.  5.]\n",
      " [ 0.  1.  0.  0.  1.  7.]\n",
      " [ 0.  0.  1. -1.  1.  4.]]\n",
      "Present Solution is : [5. 0. 0. 7. 4.]\n",
      "\n",
      "Column 2 is replaced with 4\n",
      "\n",
      "[[ 1.  0.  0.  1.  0.  5.]\n",
      " [ 0.  1.  0.  1. -1.  3.]\n",
      " [ 0.  0.  1. -1.  1.  4.]]\n",
      "Present Solution is : [5. 4. 0. 3. 0.]\n",
      "\n",
      "Final Optimal Solution  [5. 4. 0. 3. 0.]\n"
     ]
    }
   ],
   "source": [
    "print(\"Initial Solution :\",x.T)\n",
    "r = c - A.T @ c[:size]\n",
    "\n",
    "print()\n",
    "\n",
    "print(Ab)\n",
    "\n",
    "while (r[size:] < 0 ).any():\n",
    "       \n",
    "    ## Updation\n",
    "    q = maths.argmin(r)\n",
    "    p = maths.argmin(Ab[:,-1]/Ab[:,q])\n",
    "    print(\"Column\",p,\"is replaced with\",q)\n",
    "    \n",
    "    print()\n",
    "    \n",
    "    ## Row Operations\n",
    "    m , n = Ab.shape\n",
    "    for i in range(m):\n",
    "        if i != p : Ab[i] = Ab[i] - ( (Ab[i,q]/Ab[p,q]) * Ab[p] )\n",
    "    Ab[p] = Ab[p] / Ab[p,q]\n",
    "    Ab[:,p] , Ab[:,q] = Ab[:,q].copy() , Ab[:,p].copy()\n",
    "    print(Ab)\n",
    "    \n",
    "    \n",
    "    ## Update Constraints\n",
    "    c[p] , c[q] = c[q].copy(), c[p].copy()\n",
    "    order[p] , order[q] = order[q].copy() , order[p].copy()\n",
    "    \n",
    "    x = maths.zeros(len(x)).reshape(-1,1)\n",
    "    x[:size] = Ab[:,-1]\n",
    "    \n",
    "    solution = []\n",
    "    for i in range(len(order)):\n",
    "        solution.append(float(x[order.index(i+1)]))\n",
    "    x = maths.array(solution)\n",
    "       \n",
    "    \n",
    "    ## Update Reduced Cost Coefficients\n",
    "    r = c - Ab[:,:-1].T @ c[:size]\n",
    "    \n",
    "    print(\"Present Solution is :\",x.T)\n",
    "    print()\n",
    "print(\"Final Optimal Solution \",x.T)"
   ]
  },
  {
   "cell_type": "code",
   "execution_count": 34,
   "id": "81b404d5-473d-4641-b399-96b6f6d2b881",
   "metadata": {},
   "outputs": [
    {
     "name": "stdout",
     "output_type": "stream",
     "text": [
      "Objective : -14.0\n"
     ]
    }
   ],
   "source": [
    "print(\"Objective :\",float(original_constraints.T @ x))"
   ]
  }
 ],
 "metadata": {
  "kernelspec": {
   "display_name": "Python 3 (ipykernel)",
   "language": "python",
   "name": "python3"
  },
  "language_info": {
   "codemirror_mode": {
    "name": "ipython",
    "version": 3
   },
   "file_extension": ".py",
   "mimetype": "text/x-python",
   "name": "python",
   "nbconvert_exporter": "python",
   "pygments_lexer": "ipython3",
   "version": "3.10.12"
  }
 },
 "nbformat": 4,
 "nbformat_minor": 5
}
