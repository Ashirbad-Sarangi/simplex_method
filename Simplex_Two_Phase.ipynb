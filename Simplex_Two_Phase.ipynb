{
 "cells": [
  {
   "cell_type": "code",
   "execution_count": 1,
   "id": "afa7da58-7216-4c32-9312-8f0452de44b9",
   "metadata": {},
   "outputs": [],
   "source": [
    "import numpy as maths\n",
    "import warnings\n",
    "warnings.filterwarnings(\"ignore\")"
   ]
  },
  {
   "cell_type": "markdown",
   "id": "548cdcd5-26b9-48e7-8ff0-a8fb2671b782",
   "metadata": {},
   "source": [
    "# Questions"
   ]
  },
  {
   "cell_type": "code",
   "execution_count": 16,
   "id": "4b2ff234-25fa-4a8d-bdba-a1499d204166",
   "metadata": {},
   "outputs": [],
   "source": [
    "vars = 2"
   ]
  },
  {
   "cell_type": "code",
   "execution_count": 49,
   "id": "9a591e85-cc4a-4f94-9ab2-27352fe3f3de",
   "metadata": {},
   "outputs": [],
   "source": [
    "c = [2,3]\n",
    "conditions = [\n",
    "    [1,1],\n",
    "    [5,3]\n",
    "]\n",
    "\n",
    "signs = ['lte','gte']\n",
    "\n",
    "b = [4,8]"
   ]
  },
  {
   "cell_type": "code",
   "execution_count": 50,
   "id": "87106eab-38a3-4a32-a2fa-df2b6060093d",
   "metadata": {},
   "outputs": [
    {
     "name": "stdout",
     "output_type": "stream",
     "text": [
      "[[1 1]\n",
      " [5 3]]\n",
      "[[4]\n",
      " [8]]\n"
     ]
    }
   ],
   "source": [
    "\n",
    "if len(conditions) == len(b):\n",
    "    size = len(conditions)\n",
    "    c = maths.array(c).reshape(-1,1)\n",
    "    original_constraints = maths.vstack(( c,maths.zeros((size,1)) ))\n",
    "    D = maths.matrix(conditions)\n",
    "    b = maths.array(b).reshape(-1,1)\n",
    "    print(D)\n",
    "    print(b)\n",
    "else :\n",
    "    print(\"Conditions or Answers are not Correct !!!\")"
   ]
  },
  {
   "cell_type": "markdown",
   "id": "91c84d10-01b9-4e1c-be11-dfb03b41e397",
   "metadata": {},
   "source": [
    "## Phase I"
   ]
  },
  {
   "cell_type": "code",
   "execution_count": 51,
   "id": "91d2d8c7-3e6a-4146-9e2b-189c2c801f8b",
   "metadata": {},
   "outputs": [],
   "source": [
    "surplus_vars = signs.count('gte')"
   ]
  },
  {
   "cell_type": "code",
   "execution_count": 52,
   "id": "a48f3186-5e53-4a1e-b54a-b3ed1e890b16",
   "metadata": {},
   "outputs": [],
   "source": [
    "c = maths.ones(surplus_vars).reshape(-1,1)"
   ]
  },
  {
   "cell_type": "code",
   "execution_count": 53,
   "id": "0f7e3571-e10d-4279-b5f5-c43b7db4290f",
   "metadata": {},
   "outputs": [
    {
     "name": "stdout",
     "output_type": "stream",
     "text": [
      "[[ 1.  1.  0.]\n",
      " [ 5.  3. -1.]]\n"
     ]
    }
   ],
   "source": [
    "if surplus_vars == 1 : surplus_matrix = maths.vstack((maths.zeros((len(b) - surplus_vars,1)).reshape(-1,1),-maths.ones(surplus_vars).reshape(-1,1)))\n",
    "else : surplus_matrix = -maths.identity(surplus_vars)\n",
    "D = maths.hstack((D,surplus_matrix))\n",
    "print(D)"
   ]
  },
  {
   "cell_type": "markdown",
   "id": "9e35169a-c384-4dbf-8cab-73f0ebf41ece",
   "metadata": {},
   "source": [
    "# Algorithm"
   ]
  },
  {
   "cell_type": "markdown",
   "id": "69c436e1-1bec-45e8-8ffd-4bc57b464d8f",
   "metadata": {},
   "source": [
    "## Initialisations"
   ]
  },
  {
   "cell_type": "code",
   "execution_count": 72,
   "id": "ead2044b-9f6c-4974-a823-a22027faf768",
   "metadata": {},
   "outputs": [
    {
     "data": {
      "text/plain": [
       "2"
      ]
     },
     "execution_count": 72,
     "metadata": {},
     "output_type": "execute_result"
    }
   ],
   "source": []
  },
  {
   "cell_type": "code",
   "execution_count": 68,
   "id": "0a1924c7-5c35-49ff-8de4-c89ed33a3689",
   "metadata": {},
   "outputs": [
    {
     "data": {
      "text/plain": [
       "3"
      ]
     },
     "execution_count": 68,
     "metadata": {},
     "output_type": "execute_result"
    }
   ],
   "source": [
    "vars + surplus_vars"
   ]
  },
  {
   "cell_type": "code",
   "execution_count": 54,
   "id": "8d901665-52c4-4bb3-b9bc-dccee10b9b00",
   "metadata": {},
   "outputs": [],
   "source": [
    "B = maths.identity(size)\n",
    "A = maths.hstack((B,D))\n",
    "c = maths.vstack((maths.zeros((vars + surplus_vars,1)),c))\n",
    "\n",
    "x = maths.vstack(( maths.zeros((vars + surplus_vars,1)) , b ) )\n",
    "order = list(maths.arange(vars + surplus_vars+1,len(x)+1,1)) + list(maths.arange(1,vars + surplus_vars+1,1))"
   ]
  },
  {
   "cell_type": "markdown",
   "id": "b1ff6e97-1059-4d2e-abf5-3002c9bad2ea",
   "metadata": {},
   "source": [
    "## Reduced Cost Coefficients"
   ]
  },
  {
   "cell_type": "code",
   "execution_count": 55,
   "id": "afb5141c-841e-469a-9c1b-76e21a7d7cdc",
   "metadata": {},
   "outputs": [
    {
     "data": {
      "text/plain": [
       "matrix([[ 1.,  0.,  1.,  1.,  0.,  4.],\n",
       "        [ 0.,  1.,  5.,  3., -1.,  8.]])"
      ]
     },
     "execution_count": 55,
     "metadata": {},
     "output_type": "execute_result"
    }
   ],
   "source": [
    "Ab = maths.hstack((A,b.reshape(-1,1)))\n",
    "Ab"
   ]
  },
  {
   "cell_type": "code",
   "execution_count": 56,
   "id": "3857742f-c1ca-4ef0-a4bd-3563130348e9",
   "metadata": {},
   "outputs": [
    {
     "name": "stdout",
     "output_type": "stream",
     "text": [
      "Initial Solution : [[0. 0. 0. 4. 8.]]\n"
     ]
    },
    {
     "ename": "ValueError",
     "evalue": "operands could not be broadcast together with shapes (4,1) (5,1) ",
     "output_type": "error",
     "traceback": [
      "\u001b[0;31m---------------------------------------------------------------------------\u001b[0m",
      "\u001b[0;31mValueError\u001b[0m                                Traceback (most recent call last)",
      "\u001b[0;32m/tmp/ipykernel_19418/1995564127.py\u001b[0m in \u001b[0;36m<module>\u001b[0;34m\u001b[0m\n\u001b[1;32m      1\u001b[0m \u001b[0mprint\u001b[0m\u001b[0;34m(\u001b[0m\u001b[0;34m\"Initial Solution :\"\u001b[0m\u001b[0;34m,\u001b[0m\u001b[0mx\u001b[0m\u001b[0;34m.\u001b[0m\u001b[0mT\u001b[0m\u001b[0;34m)\u001b[0m\u001b[0;34m\u001b[0m\u001b[0;34m\u001b[0m\u001b[0m\n\u001b[1;32m      2\u001b[0m \u001b[0;31m# r = c - A.T @ c[-surplus_vars:]\u001b[0m\u001b[0;34m\u001b[0m\u001b[0;34m\u001b[0m\u001b[0m\n\u001b[0;32m----> 3\u001b[0;31m \u001b[0mr\u001b[0m \u001b[0;34m=\u001b[0m \u001b[0mc\u001b[0m \u001b[0;34m-\u001b[0m \u001b[0mA\u001b[0m\u001b[0;34m.\u001b[0m\u001b[0mT\u001b[0m \u001b[0;34m@\u001b[0m \u001b[0mc\u001b[0m\u001b[0;34m[\u001b[0m\u001b[0;34m-\u001b[0m\u001b[0msize\u001b[0m\u001b[0;34m:\u001b[0m\u001b[0;34m]\u001b[0m\u001b[0;34m\u001b[0m\u001b[0;34m\u001b[0m\u001b[0m\n\u001b[0m\u001b[1;32m      4\u001b[0m \u001b[0;34m\u001b[0m\u001b[0m\n\u001b[1;32m      5\u001b[0m \u001b[0;34m\u001b[0m\u001b[0m\n",
      "\u001b[0;31mValueError\u001b[0m: operands could not be broadcast together with shapes (4,1) (5,1) "
     ]
    }
   ],
   "source": [
    "print(\"Initial Solution :\",x.T)\n",
    "r = c - A.T @ c[-surplus_vars:]\n",
    "# r = c - A.T @ c[-size:]\n",
    "\n",
    "\n",
    "print()\n",
    "print(\"Initial Ab\")\n",
    "print(Ab)\n",
    "\n",
    "p = 0\n",
    "q = 1\n",
    "\n",
    "\n",
    "while (r[size:] < 0 ).any() and p != q:\n",
    "       \n",
    "    ## Updation\n",
    "    q = maths.argmin(r)\n",
    "    p = maths.argmin(Ab[:,-1]/Ab[:,q])\n",
    "    print(\"Column\",p,\"is replaced with\",q)\n",
    "    \n",
    "    print()\n",
    "    \n",
    "    ## Row Operations\n",
    "    m , n = Ab.shape\n",
    "    for i in range(m):\n",
    "        if i != p : Ab[i] = Ab[i] - ( (Ab[i,q]/Ab[p,q]) * Ab[p] )\n",
    "    Ab[p] = Ab[p] / Ab[p,q]\n",
    "    Ab[:,p] , Ab[:,q] = Ab[:,q].copy() , Ab[:,p].copy()\n",
    "    print(maths.round(Ab,2))\n",
    "    \n",
    "    \n",
    "    ## Update Constraints\n",
    "    c[p] , c[q] = c[q].copy(), c[p].copy()\n",
    "    order[p] , order[q] = order[q].copy() , order[p].copy()\n",
    "    print(order)    \n",
    "    x = maths.zeros(len(x)).reshape(-1,1)\n",
    "    x[:size] = Ab[:,-1]\n",
    "    \n",
    "    solution = []\n",
    "    for i in range(len(order)):\n",
    "        solution.append(float(x[order.index(i+1)]))\n",
    "    x = maths.array(solution)\n",
    "       \n",
    "    \n",
    "    ## Update Reduced Cost Coefficients\n",
    "    r = c - Ab[:,:-1].T @ c[-surplus_vars:]\n",
    "    \n",
    "    print(\"Present Solution is :\",x.T)\n",
    "    print()\n",
    "print(\"Final Optimal Solution \",x.T)"
   ]
  },
  {
   "cell_type": "code",
   "execution_count": 43,
   "id": "96998c0f-38c6-491a-9d8b-499f1dbc5347",
   "metadata": {},
   "outputs": [],
   "source": [
    "b = Ab[:,-1]\n",
    "Ab = Ab[:,:-1]\n",
    "\n",
    "Ab_copy = Ab.copy()\n",
    "\n",
    "for i in range(len(order)): Ab_copy[:,i] = Ab[:,order.index(i+1)-1] \n",
    "Ab = Ab_copy.copy()\n",
    "\n",
    "A = Ab[:,:vars + surplus_vars]\n",
    "Ab = maths.hstack((A,b))"
   ]
  },
  {
   "cell_type": "markdown",
   "id": "9e4ea0a0-149d-45a0-a144-c27894457bee",
   "metadata": {},
   "source": [
    "# Phase II"
   ]
  },
  {
   "cell_type": "code",
   "execution_count": 45,
   "id": "9ef53a92-3284-4089-b730-6b295ad90399",
   "metadata": {},
   "outputs": [
    {
     "name": "stdout",
     "output_type": "stream",
     "text": [
      "[[4 2]\n",
      " [1 4]]\n",
      "[[2.57142857]\n",
      " [0.85714286]]\n"
     ]
    }
   ],
   "source": [
    "if len(conditions) == len(b):\n",
    "    c = original_constraints[:vars]\n",
    "    D = maths.matrix(conditions)\n",
    "    b = maths.array(b).reshape(-1,1)\n",
    "    print(D)\n",
    "    print(b)\n",
    "else :\n",
    "    print(\"Conditions or Answers are not Correct !!!\")"
   ]
  },
  {
   "cell_type": "code",
   "execution_count": 46,
   "id": "8dec8598-f201-4a94-b4e0-6780c77a56e8",
   "metadata": {},
   "outputs": [],
   "source": [
    "c = maths.vstack(( maths.zeros((size,1)) , c ))\n",
    "x = maths.vstack(( maths.zeros((vars,1)) , b ) )\n",
    "order = list(maths.arange(vars+1,len(x)+1,1)) + list(maths.arange(1,vars+1,1))"
   ]
  },
  {
   "cell_type": "markdown",
   "id": "78983338-39ce-40c7-b509-b4c0632f6802",
   "metadata": {},
   "source": [
    "## Reduced Cost Coefficients"
   ]
  },
  {
   "cell_type": "code",
   "execution_count": 47,
   "id": "d41754b4-43bd-4a80-9ac4-4562755adfae",
   "metadata": {},
   "outputs": [
    {
     "name": "stdout",
     "output_type": "stream",
     "text": [
      "Initial Solution : [[0. 0. 3. 1.]]\n",
      "\n",
      "[[ 0.14  1.   -0.14 -0.29  2.57]\n",
      " [-0.29  0.    0.29  0.07  0.86]]\n",
      "\n",
      "Final Optimal Solution  [2.57 0.86 0.   0.  ]\n"
     ]
    }
   ],
   "source": [
    "print(\"Initial Solution :\",maths.round(x.T))\n",
    "r = c - A.T @ c[:size]\n",
    "\n",
    "print()\n",
    "\n",
    "print(maths.round(Ab,2))\n",
    "\n",
    "while (r[size:] < 0 ).any():\n",
    "       \n",
    "    ## Updation\n",
    "    q = maths.argmin(r)\n",
    "    p = maths.argmin(Ab[:,-1]/Ab[:,q])\n",
    "    print(\"Column\",p,\"is replaced with\",q)\n",
    "    \n",
    "    print()\n",
    "    \n",
    "    ## Row Operations\n",
    "    m , n = Ab.shape\n",
    "    for i in range(m):\n",
    "        if i != p : Ab[i] = Ab[i] - ( (Ab[i,q]/Ab[p,q]) * Ab[p] )\n",
    "    Ab[p] = Ab[p] / Ab[p,q]\n",
    "    Ab[:,p] , Ab[:,q] = Ab[:,q].copy() , Ab[:,p].copy()\n",
    "    print(Ab)\n",
    "    \n",
    "    \n",
    "    ## Update Constraints\n",
    "    c[p] , c[q] = c[q].copy(), c[p].copy()\n",
    "    order[p] , order[q] = order[q].copy() , order[p].copy()\n",
    "    \n",
    "    x = maths.zeros(len(x)).reshape(-1,1)\n",
    "    x[:size] = Ab[:,-1]\n",
    "    \n",
    "    solution = []\n",
    "    for i in range(len(order)):\n",
    "        solution.append(float(x[order.index(i+1)]))\n",
    "    x = maths.array(solution)\n",
    "       \n",
    "    \n",
    "    ## Update Reduced Cost Coefficients\n",
    "    r = c - Ab[:,:-1].T @ c[:size]\n",
    "    \n",
    "    print(\"Present Solution is :\",maths.round(x.T,2))\n",
    "    print()\n",
    "x_copy = maths.zeros(len(x))\n",
    "for i in range(len(x)): x_copy[i] = x[order.index(i+1)]\n",
    "x = x_copy.copy()\n",
    "\n",
    "print()\n",
    "print(\"Final Optimal Solution \",maths.round(x.T,2))"
   ]
  },
  {
   "cell_type": "code",
   "execution_count": 48,
   "id": "f94dcf16-81f9-4884-a654-28ec98907ac2",
   "metadata": {},
   "outputs": [
    {
     "name": "stdout",
     "output_type": "stream",
     "text": [
      "Final Solution :  [2.57 0.86]\n",
      "Objective : 7.71\n"
     ]
    }
   ],
   "source": [
    "print(\"Final Solution : \",maths.round(x.T[:vars],2))\n",
    "print(\"Objective :\",round(float(original_constraints.T @ x),2))"
   ]
  }
 ],
 "metadata": {
  "kernelspec": {
   "display_name": "Python 3 (ipykernel)",
   "language": "python",
   "name": "python3"
  },
  "language_info": {
   "codemirror_mode": {
    "name": "ipython",
    "version": 3
   },
   "file_extension": ".py",
   "mimetype": "text/x-python",
   "name": "python",
   "nbconvert_exporter": "python",
   "pygments_lexer": "ipython3",
   "version": "3.10.12"
  }
 },
 "nbformat": 4,
 "nbformat_minor": 5
}
