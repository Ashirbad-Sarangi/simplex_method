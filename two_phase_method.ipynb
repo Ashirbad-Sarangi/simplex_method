{
 "cells": [
  {
   "cell_type": "code",
   "execution_count": 18,
   "id": "afa7da58-7216-4c32-9312-8f0452de44b9",
   "metadata": {},
   "outputs": [],
   "source": [
    "import numpy as maths\n",
    "import warnings\n",
    "warnings.filterwarnings(\"ignore\")"
   ]
  },
  {
   "cell_type": "markdown",
   "id": "548cdcd5-26b9-48e7-8ff0-a8fb2671b782",
   "metadata": {},
   "source": [
    "# Questions"
   ]
  },
  {
   "cell_type": "code",
   "execution_count": 24,
   "id": "35092498-b854-4e33-8830-1848f7951228",
   "metadata": {},
   "outputs": [],
   "source": [
    "vars = 2\n",
    "vars = maths.zeros(vars)"
   ]
  },
  {
   "cell_type": "code",
   "execution_count": 34,
   "id": "bafb1bdf-3ef8-40bf-aa9c-d5a4fd82cc79",
   "metadata": {},
   "outputs": [],
   "source": [
    "c = [-2,-3]\n",
    "coefficients = [\n",
    "    [4,2],\n",
    "    [1,4]\n",
    "]\n",
    "conditions = ['gte','gte']\n",
    "b = [12,6]"
   ]
  },
  {
   "cell_type": "code",
   "execution_count": null,
   "id": "7b573cc4-d7c0-47e5-b64c-adb08f5d12e9",
   "metadata": {},
   "outputs": [],
   "source": [
    "gtes = 0\n",
    "ltes = 0\n",
    "for i in range(len(conditions)):\n",
    "    if conditions[i] == 'gte': gtes = gtes + 1\n",
    "    else : ltes = ltes + 1\n",
    "\n",
    "for i in range(gtes):\n",
    "    coefficients[i].append(maths.zeros(gtes))\n",
    "    "
   ]
  },
  {
   "cell_type": "code",
   "execution_count": 36,
   "id": "942200f9-6417-4b1e-a8c1-f029b60ae702",
   "metadata": {},
   "outputs": [
    {
     "data": {
      "text/plain": [
       "[0.0, 0.0]"
      ]
     },
     "execution_count": 36,
     "metadata": {},
     "output_type": "execute_result"
    }
   ],
   "source": [
    "list(maths.zeros(2))"
   ]
  },
  {
   "cell_type": "code",
   "execution_count": 28,
   "id": "8c4090a9-22ba-4cf3-8a15-54fa28489440",
   "metadata": {},
   "outputs": [
    {
     "name": "stdout",
     "output_type": "stream",
     "text": [
      "[[4 2]\n",
      " [1 4]]\n",
      "[[12]\n",
      " [ 6]]\n"
     ]
    }
   ],
   "source": [
    "if len(coefficients) == len(b):\n",
    "    c = maths.array(c).reshape(-1,1)\n",
    "    D = maths.matrix(coefficients)\n",
    "    b = maths.array(b).reshape(-1,1)\n",
    "    print(D)\n",
    "    print(b)\n",
    "else :\n",
    "    print(\"Conditions or Answers are not Correct !!!\")"
   ]
  },
  {
   "cell_type": "markdown",
   "id": "d4b62255-58d0-429c-9211-133d3c5dc493",
   "metadata": {},
   "source": [
    "# Algorithm"
   ]
  },
  {
   "cell_type": "markdown",
   "id": "5b6245e9-7dfb-4319-b505-593fbfb6d58e",
   "metadata": {},
   "source": [
    "## Initialisations"
   ]
  },
  {
   "cell_type": "code",
   "execution_count": 29,
   "id": "9967c213-fc79-4105-96b8-5cee20868ea1",
   "metadata": {},
   "outputs": [],
   "source": [
    "size = len(coefficients)\n",
    "B = maths.identity(size)\n",
    "A = maths.hstack((B,D))\n",
    "original_constraints = maths.vstack(( c,maths.zeros((size,1)) ))\n",
    "c = maths.vstack(( maths.zeros((size,1)) , c ))\n",
    "x = maths.vstack(( maths.zeros((len(vars),1)) , b ) )\n",
    "order = list(maths.arange(len(vars)+1,len(x)+1,1)) + list(maths.arange(1,len(vars)+1,1))"
   ]
  },
  {
   "cell_type": "markdown",
   "id": "26d34792-e6fc-4e8c-b4b4-03c5766d9c0f",
   "metadata": {},
   "source": [
    "## Canonical Form"
   ]
  },
  {
   "cell_type": "code",
   "execution_count": 30,
   "id": "05abb3be-ba90-4ed0-9f38-c0bc5759421d",
   "metadata": {},
   "outputs": [
    {
     "data": {
      "text/plain": [
       "matrix([[ 1.,  0.,  4.,  2., 12.],\n",
       "        [ 0.,  1.,  1.,  4.,  6.]])"
      ]
     },
     "execution_count": 30,
     "metadata": {},
     "output_type": "execute_result"
    }
   ],
   "source": [
    "Ab = maths.hstack((A,b.reshape(-1,1)))\n",
    "Ab"
   ]
  },
  {
   "cell_type": "markdown",
   "id": "baf76286-1462-4ff3-bfbf-685eff8de8a8",
   "metadata": {},
   "source": [
    "## Reduced Cost Coefficients"
   ]
  },
  {
   "cell_type": "code",
   "execution_count": 31,
   "id": "6c4fff78-f058-42be-b352-e180d4503e94",
   "metadata": {},
   "outputs": [
    {
     "name": "stdout",
     "output_type": "stream",
     "text": [
      "Initial Solution : [[ 0.  0. 12.  6.]]\n",
      "\n",
      "[[ 1.  0.  4.  2. 12.]\n",
      " [ 0.  1.  1.  4.  6.]]\n",
      "Column 1 is replaced with 3\n",
      "\n",
      "[[ 1.    0.    3.5  -0.5   9.  ]\n",
      " [ 0.    1.    0.25  0.25  1.5 ]]\n",
      "Present Solution is : [0.  1.5 9.  0. ]\n",
      "\n",
      "Column 0 is replaced with 2\n",
      "\n",
      "[[ 1.          0.          0.28571429 -0.14285714  2.57142857]\n",
      " [ 0.          1.         -0.07142857  0.28571429  0.85714286]]\n",
      "Present Solution is : [2.57142857 0.85714286 0.         0.        ]\n",
      "\n",
      "Final Optimal Solution  [2.57142857 0.85714286 0.         0.        ]\n"
     ]
    }
   ],
   "source": [
    "print(\"Initial Solution :\",x.T)\n",
    "r = c - A.T @ c[:size]\n",
    "\n",
    "print()\n",
    "\n",
    "print(Ab)\n",
    "\n",
    "while (r[size:] < 0 ).any():\n",
    "       \n",
    "    ## Updation\n",
    "    q = maths.argmin(r)\n",
    "    p = maths.argmin(Ab[:,-1]/Ab[:,q])\n",
    "    print(\"Column\",p,\"is replaced with\",q)\n",
    "    \n",
    "    print()\n",
    "    \n",
    "    ## Row Operations\n",
    "    m , n = Ab.shape\n",
    "    for i in range(m):\n",
    "        if i != p : Ab[i] = Ab[i] - ( (Ab[i,q]/Ab[p,q]) * Ab[p] )\n",
    "    Ab[p] = Ab[p] / Ab[p,q]\n",
    "    Ab[:,p] , Ab[:,q] = Ab[:,q].copy() , Ab[:,p].copy()\n",
    "    print(Ab)\n",
    "    \n",
    "    \n",
    "    ## Update Constraints\n",
    "    c[p] , c[q] = c[q].copy(), c[p].copy()\n",
    "    order[p] , order[q] = order[q].copy() , order[p].copy()\n",
    "    \n",
    "    x = maths.zeros(len(x)).reshape(-1,1)\n",
    "    x[:size] = Ab[:,-1]\n",
    "    \n",
    "    solution = []\n",
    "    for i in range(len(order)):\n",
    "        solution.append(float(x[order.index(i+1)]))\n",
    "    x = maths.array(solution)\n",
    "       \n",
    "    \n",
    "    ## Update Reduced Cost Coefficients\n",
    "    r = c - Ab[:,:-1].T @ c[:size]\n",
    "    \n",
    "    print(\"Present Solution is :\",x.T)\n",
    "    print()\n",
    "print(\"Final Optimal Solution \",x.T)"
   ]
  },
  {
   "cell_type": "code",
   "execution_count": 33,
   "id": "81b404d5-473d-4641-b399-96b6f6d2b881",
   "metadata": {},
   "outputs": [
    {
     "name": "stdout",
     "output_type": "stream",
     "text": [
      "Objective : -7.714285714285715\n"
     ]
    }
   ],
   "source": [
    "print(\"Objective :\",float(original_constraints.T @ x))"
   ]
  }
 ],
 "metadata": {
  "kernelspec": {
   "display_name": "Python 3 (ipykernel)",
   "language": "python",
   "name": "python3"
  },
  "language_info": {
   "codemirror_mode": {
    "name": "ipython",
    "version": 3
   },
   "file_extension": ".py",
   "mimetype": "text/x-python",
   "name": "python",
   "nbconvert_exporter": "python",
   "pygments_lexer": "ipython3",
   "version": "3.10.12"
  }
 },
 "nbformat": 4,
 "nbformat_minor": 5
}
