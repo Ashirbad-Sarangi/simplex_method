{
 "cells": [
  {
   "cell_type": "code",
   "execution_count": 12,
   "id": "dce802f2",
   "metadata": {},
   "outputs": [],
   "source": [
    "import numpy as maths"
   ]
  },
  {
   "cell_type": "code",
   "execution_count": 136,
   "id": "66237f15",
   "metadata": {},
   "outputs": [
    {
     "name": "stdout",
     "output_type": "stream",
     "text": [
      "Enter the number of variables : 2\n"
     ]
    }
   ],
   "source": [
    "n = int(input(\"Enter the number of variables : \"),0)"
   ]
  },
  {
   "cell_type": "code",
   "execution_count": 137,
   "id": "5431b00b",
   "metadata": {},
   "outputs": [
    {
     "data": {
      "text/plain": [
       "['x1', 'x2']"
      ]
     },
     "execution_count": 137,
     "metadata": {},
     "output_type": "execute_result"
    }
   ],
   "source": [
    "x = [\"x\"+str(i+1) for i in range(n)]\n",
    "# x = maths.matrix(x).T\n",
    "x"
   ]
  },
  {
   "cell_type": "markdown",
   "id": "ed7f31cf",
   "metadata": {},
   "source": [
    "### Objective Function Definition\n",
    "\n",
    "Not robust as of now, however, if the objective function is given as the x is given then the code extracts constraints from the objective "
   ]
  },
  {
   "cell_type": "code",
   "execution_count": 150,
   "id": "22c4ab8d",
   "metadata": {},
   "outputs": [
    {
     "name": "stdout",
     "output_type": "stream",
     "text": [
      "Maximise (max) / Minimise (min) the objective function : max\n",
      "Maximising the objective function .....\n"
     ]
    }
   ],
   "source": [
    "required_input = False\n",
    "while not required_input:\n",
    "    action = input(\"Maximise (max) / Minimise (min) the objective function : \")\n",
    "    if action.lower() == 'max':\n",
    "        print(\"Maximising the objective function .....\")\n",
    "        required_input = True\n",
    "        \n",
    "    elif action.lower() == 'min':\n",
    "        required_input = True\n",
    "        print(\"Minimising the objective function .....\")\n",
    "    else :\n",
    "        print(\"Unkown input\")\n",
    "        \n",
    "action = action + \"imise\""
   ]
  },
  {
   "cell_type": "code",
   "execution_count": 151,
   "id": "0443e3fb",
   "metadata": {},
   "outputs": [
    {
     "name": "stdout",
     "output_type": "stream",
     "text": [
      "The Objective Function to maximise : 2x1 +5x2\n",
      "In standard form :\n",
      "minimise : c.T =  [[-2. -5.]]\n"
     ]
    }
   ],
   "source": [
    "z = input(\"The Objective Function to \"+str(action)+\" : \")\n",
    "c = []\n",
    "z_split = z.split()\n",
    "for i in range(len(x)): c.append(float(z_split[i].split(x[i])[0]))\n",
    "c = maths.matrix(c).T\n",
    "if action == 'maximise' : c = -c\n",
    "print(\"In standard form :\")\n",
    "print(\"minimise : c.T = \",c.T)"
   ]
  },
  {
   "cell_type": "markdown",
   "id": "6c512d94",
   "metadata": {},
   "source": [
    "### Constraints\n",
    "\n",
    "Robustness is yet to be done ... "
   ]
  },
  {
   "cell_type": "code",
   "execution_count": 152,
   "id": "0c81ccb5",
   "metadata": {},
   "outputs": [
    {
     "name": "stdout",
     "output_type": "stream",
     "text": [
      "Enter the number of constraints : 4\n"
     ]
    }
   ],
   "source": [
    "N = int(input(\"Enter the number of constraints : \"))"
   ]
  },
  {
   "cell_type": "code",
   "execution_count": null,
   "id": "66fb2c0a",
   "metadata": {},
   "outputs": [],
   "source": [
    "if n >= N : print(\"NOT a LPP problem !\")\n",
    "else :\n",
    "    A = []\n",
    "    print(\"Enter the coefficients for the variables \",x)\n",
    "    for i in range(N):\n",
    "        A.append(enter_constraint())"
   ]
  },
  {
   "cell_type": "code",
   "execution_count": 153,
   "id": "5df2b412",
   "metadata": {},
   "outputs": [
    {
     "name": "stdout",
     "output_type": "stream",
     "text": [
      "Enter the coefficients for the variables  ['x1', 'x2']\n"
     ]
    }
   ],
   "source": [
    "print(\"Enter the coefficients for the variables \",x)"
   ]
  },
  {
   "cell_type": "code",
   "execution_count": null,
   "id": "56a39075",
   "metadata": {},
   "outputs": [],
   "source": [
    "def enter_constraint():\n",
    "    "
   ]
  },
  {
   "cell_type": "code",
   "execution_count": 165,
   "id": "04172ea7",
   "metadata": {},
   "outputs": [
    {
     "name": "stdout",
     "output_type": "stream",
     "text": [
      "21 4 <= 5\n"
     ]
    },
    {
     "data": {
      "text/plain": [
       "['21', '4', '<=', '5']"
      ]
     },
     "execution_count": 165,
     "metadata": {},
     "output_type": "execute_result"
    }
   ],
   "source": [
    "a = [str(h) for h in input().split()]\n"
   ]
  },
  {
   "cell_type": "markdown",
   "id": "abbaf27d",
   "metadata": {},
   "source": [
    "Skipping these parts and directly getting into the standard form"
   ]
  },
  {
   "cell_type": "code",
   "execution_count": null,
   "id": "f6c5437f",
   "metadata": {},
   "outputs": [],
   "source": []
  }
 ],
 "metadata": {
  "kernelspec": {
   "display_name": "Python 3 (ipykernel)",
   "language": "python",
   "name": "python3"
  },
  "language_info": {
   "codemirror_mode": {
    "name": "ipython",
    "version": 3
   },
   "file_extension": ".py",
   "mimetype": "text/x-python",
   "name": "python",
   "nbconvert_exporter": "python",
   "pygments_lexer": "ipython3",
   "version": "3.10.12"
  }
 },
 "nbformat": 4,
 "nbformat_minor": 5
}
